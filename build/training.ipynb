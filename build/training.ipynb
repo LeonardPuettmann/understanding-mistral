{
  "cells": [
    {
      "cell_type": "code",
      "execution_count": 2,
      "metadata": {
        "id": "1lsNTmtY3GHZ"
      },
      "outputs": [
        {
          "name": "stderr",
          "output_type": "stream",
          "text": [
            "c:\\Users\\leopu\\AppData\\Local\\Programs\\Python\\Python312\\Lib\\site-packages\\tqdm\\auto.py:21: TqdmWarning: IProgress not found. Please update jupyter and ipywidgets. See https://ipywidgets.readthedocs.io/en/stable/user_install.html\n",
            "  from .autonotebook import tqdm as notebook_tqdm\n"
          ]
        }
      ],
      "source": [
        "# Standard library imports\n",
        "import json\n",
        "import gc\n",
        "import os\n",
        "from pathlib import Path\n",
        "from typing import List, Optional\n",
        "\n",
        "# Third-party library imports\n",
        "import fire\n",
        "import torch\n",
        "import torch.nn as nn\n",
        "import torch.nn.functional as F\n",
        "import torchinfo\n",
        "from datasets import load_dataset\n",
        "from torch import optim\n",
        "from torch.optim import Adam\n",
        "from torch.utils.data import DataLoader, Dataset\n",
        "from mistral_common.protocol.instruct.messages import (\n",
        "    UserMessage,\n",
        ")\n",
        "from mistral_common.protocol.instruct.request import ChatCompletionRequest\n",
        "from mistral_common.tokens.tokenizers.mistral import MistralTokenizer\n",
        "\n",
        "# Local application/library-specific imports\n",
        "from mistral import ModelArgs, Transformer, RMSNorm, precompute_freqs_cis, generate\n",
        "\n",
        "device = torch.device(\"cuda\" if torch.cuda.is_available() else \"cpu\")\n",
        "\n",
        "import os\n",
        "import logging\n",
        "import datetime\n",
        "import pickle\n",
        "from tqdm import tqdm"
      ]
    },
    {
      "cell_type": "code",
      "execution_count": 3,
      "metadata": {
        "colab": {
          "base_uri": "https://localhost:8080/",
          "height": 210,
          "referenced_widgets": [
            "e8ae3b9bf71548f5be9bb2fd9ba4d6d0",
            "ca31137ffdd04b4b8ce67cdd69b4fbb2",
            "bb403f3fba824a0b9d0f8324ad9963da",
            "361024b5f8ed4439a2efd4318a5f9f64",
            "5aff115b001e47e783c193984cb46b99",
            "440990e26adb4b14bf886ac4ec307c85",
            "2258d702c4bf4ac9955f1a49a99661fd",
            "cc7ea66cb2ae4420af503521bc9b6678",
            "5e5d11aeb2394204b80a006bee14412b",
            "d8b000402d34441f828465e843a9de48",
            "69844ed26324456c8113015a43876956",
            "fa52eeab496e40dabe8bffacd0512ab1",
            "f9a1d18bbb5b4347a54347043d52a378",
            "58eedd464d9f4a79b64baab60136ad30",
            "821eb28db69548138edb24d86042be08",
            "2737bf134bd2439d890d1dc79bf2acd0",
            "e6e13bd2988a49d89a739be9ea017acd",
            "d8545271cb184a83aa95c33ad9eb3770",
            "4028fd9df8134c7aa6df03c380182ee9",
            "c75c568657fc42408314acc2dcb236e6",
            "b0cde5d7682a4e9394eff1952d2d95d0",
            "5ab3eeb37f5442758fe7404b04bdf171"
          ]
        },
        "id": "ceo32-d33GHc",
        "outputId": "ea5025b4-b4fb-4f52-d3b2-87472f214c0e"
      },
      "outputs": [],
      "source": [
        "# # Load the dataset in streaming mode\n",
        "# ds = load_dataset(\"HuggingFaceTB/cosmopedia\", \"stories\", streaming=True,)\n",
        "\n",
        "# # Initialize a counter\n",
        "# counter = 0\n",
        "\n",
        "# # Iterate over the dataset\n",
        "# dataset = {\n",
        "#     \"text\": [],\n",
        "# }\n",
        "\n",
        "# for sample in ds[\"train\"]:\n",
        "#     dataset[\"text\"].append(sample[\"text\"])\n",
        "#     counter += 1\n",
        "#     if counter >= 1000:\n",
        "#         break"
      ]
    },
    {
      "cell_type": "code",
      "execution_count": 4,
      "metadata": {},
      "outputs": [],
      "source": [
        "# def save_data(dataset_dict): \n",
        "#     with open('data/cosmopedia.pkl', 'wb') as f:\n",
        "#         pickle.dump(dataset_dict, f)\n",
        "\n",
        "# save_data(dataset)"
      ]
    },
    {
      "cell_type": "code",
      "execution_count": 5,
      "metadata": {},
      "outputs": [],
      "source": [
        "def load_data():\n",
        "    with open('data/cosmopedia.pkl', 'rb') as f:\n",
        "        dataset = pickle.load(f)\n",
        "    return dataset\n",
        "\n",
        "dataset = load_data()"
      ]
    },
    {
      "cell_type": "code",
      "execution_count": 6,
      "metadata": {
        "id": "k3VDdN0d3GHc"
      },
      "outputs": [],
      "source": [
        "# Load the tokenizer outside of the function\n",
        "tokenizer = MistralTokenizer.v1()\n",
        "\n",
        "def tokenize_text(text, tokenizer, return_text=False):\n",
        "    # Tokenize the input text using the provided tokenizer\n",
        "    tokenized = tokenizer.encode_chat_completion(\n",
        "        ChatCompletionRequest(\n",
        "            messages=[UserMessage(content=text)],\n",
        "            model=\"open-mistral-7b\",\n",
        "        )\n",
        "    )\n",
        "\n",
        "    tokens = tokenized.tokens\n",
        "    tokenized_text = tokenized.text\n",
        "\n",
        "    if return_text:\n",
        "        return tokens, tokenized_text\n",
        "    else:\n",
        "        return tokens"
      ]
    },
    {
      "cell_type": "code",
      "execution_count": 7,
      "metadata": {},
      "outputs": [
        {
          "data": {
            "text/plain": [
              "([1,\n",
              "  733,\n",
              "  16289,\n",
              "  28793,\n",
              "  6312,\n",
              "  28709,\n",
              "  586,\n",
              "  1141,\n",
              "  349,\n",
              "  19795,\n",
              "  733,\n",
              "  28748,\n",
              "  16289,\n",
              "  28793],\n",
              " '<s>▁[INST]▁hello▁my▁name▁is▁Leo▁[/INST]')"
            ]
          },
          "execution_count": 7,
          "metadata": {},
          "output_type": "execute_result"
        }
      ],
      "source": [
        "tokenize_text(\"hello my name is Leo\", tokenizer, return_text=True)"
      ]
    },
    {
      "cell_type": "code",
      "execution_count": 8,
      "metadata": {
        "colab": {
          "base_uri": "https://localhost:8080/"
        },
        "id": "krusFUwN3GHc",
        "outputId": "880b0c86-2334-43d4-8f5d-8b35cd173170"
      },
      "outputs": [
        {
          "data": {
            "text/plain": [
              "[' Once upon a time, in a village called Kiwiland, there lived two best friends named Kiwi and Koala. They loved exploring the world around them and learning new things every day! One day, they stumbled upon a magical forest full of vibrant colors and fascinating creatures. As they ventured deeper into the forest, they met Torty, a wise old turtle who was known to have answers to all questions.\\n\\nKiwi asked Torty, \"How does our culture affect the way we make decisions?\" Torty smiled and replied, \"Well my dear friend, let me tell you a story.\"\\n\\nLong ago, in another part of the forest, there were two tribes - the Hares and the Sloths. The Hares valued speed and quickness, believing that swift actions led to success. On the other hand, the Sloths cherished patience and deliberation, thinking that slow yet thoughtful decisions brought prosperity.\\n\\nOne sunny afternoon, both tribes faced a challenge – sharing a limited supply of fruits between them. The Hares wanted to divide the fruits quickly so they could move on to their next adventure. Meanwhile, the Sloths preferred taking ample time to ensure fairness and satisfaction among everyone involved. Their contrasting approaches caused tension and disagreements until they realized something important.\\n\\nTogether, they discovered that neither rushing nor delaying decisions guaranteed perfection. Instead, finding a balance between haste and caution proved essential. By respecting each other\\'s perspectives, they created harmony and shared resources wisely. Since then, these neighboring tribes learned valuable lessons about embracing diversity and understanding cultural differences when making decisions together.\\n\\n\"Ah!\" said Kiwi excitedly, \"So acknowledging various viewpoints helps us make better decisions.\" Torty nodded approvingly before adding one final piece of wisdom.\\n\\n\"Yes, indeed,\" he continued. \"But remember, even after considering diverse opinions, sometimes outcomes won\\'t turn out as desired. That\\'s when resilience comes in handy—learning from those experiences and moving forward positively teaches us humility and growth.\"\\n\\nWith wide eyes filled with curiosity, Koala wondered aloud, \"What happens if someone still isn\\'t happy despite trying hard?\" Smiling softly, Torty answered, \"That\\'s life\\'s unexpected twist, dear Koala. We must accept it graciously because failure paves the pathway towards improvement and progress.\"',\n",
              " ' In a bustling town full of curious creatures called the \"Wordlings,\" there lived two friends named Exy and Uppe. They loved exploring their world made up of different kinds of words. One sunny day, they decided to play a game of finding words that fit specific criteria. Their teacher, Professor Vowel, challenged them to create a magical tool that would filter out words containing the letter \\'e\\', starting with a capital letter, and no more than five letters long. Not only did it need to show these special words, but it had to count how many were found too!\\n\\nAs they began working on their project, Exy asked, \"Why do we only want words without the letter \\'e\\'?\" Uppe replied, \"Well, my dear friend, think about our Wordling language. We use vowels like \\'e\\' to make softer sounds when we speak or read. Words without \\'e\\' might give us stronger meanings!\"\\n\\nWith excitement in their eyes, they continued building their enchanted tool. Finally, after hours of tinkering, they held something extraordinary - a device that took in all sorts of words and presented only those meeting the requirements! It even displayed the number of chosen words, right beside the newly formed list.\\n\\nExy and Uppe ran off to share their invention with everyone. As the Wordlings gathered around, marveling at its power, suddenly, the unexpected happened. A gust of wind swept across the square carrying away some of the precious words! Everyone watched helplessly as the whirlwind scattered them into oblivion. Although saddened by what transpired, they learned a valuable lesson about preservation and importance of every single word in their lives. Even short ones mattered equally because together, they created meaningful stories and messages among the Wordlings.',\n",
              " \" Step 3: Embracing an Unconventional Warmup Routine\\n\\nAs Maria continued her warmup, she noticed a peculiar group of people gathering nearby - they were practicing something called 'parkour.' Intrigued, she decided to approach them and learn more about their unusual activity. To her surprise, they welcomed her warmly and invited her to join them for a session.\\n\\nBeing open-minded and always eager to try new things, Maria accepted their offer and quickly discovered that parkour offered a unique full-body warmup experience unlike anything she had ever done before. It involved running, jumping, climbing, and vaulting over various obstacles – all skills that required strength, flexibility, agility, and coordination. As she practiced alongside these enthusiasts, she found herself laughing, learning, and getting an incredible adrenaline rush from pushing her limits.\\n\\nStep 4: Adapting Her Fitness Journey\\n\\nAfter incorporating parkour into her pre-jog routine, Maria realized that not only did it provide a fantastic warmup, but it also added variety and excitement to her fitness journey. Moreover, she met many interesting individuals who shared her passion for staying fit and exploring unconventional ways to do so.\\n\\nOne day, while discussing her experiences with fellow Reddit users on r/Fitness, Maria encountered another surprising turn of events. A professional parkour athlete recognized her enthusiasm and dedication and reached out to her through a private message. They expressed admiration for Maria's determination and commitment to improving her health and wellness and extended an invitation for her to participate in local competitions.\\n\\nStep 5: Joining the Parkour Community\\n\\nWith some encouragement from her newfound friend and mentor, Maria embarked on a thrilling adventure within the world of competitive parkour. Through rigorous training sessions and countless hours spent mastering new techniques, she developed confidence and resilience both physically and mentally. Alongside other passionate athletes, Maria formed lasting bonds and created cherished memories.\\n\\nReflecting on her transformation, Maria acknowledged that embracing her curiosity and stepping outside of her comfort zone led to discovering an enriching niche interest. By sharing her journey online, she hoped to inspire others facing similar challenges to explore unfamiliar territories and embrace change wholeheartedly.\\n\\nIn conclusion, sometimes life takes us down unexpected paths when we least expect it, just like Maria's encounter with parkour enthusiasts during her usual jogging route. These moments of serendipity often result in profound connections and growth opportunities worth pursuing. So go ahead; take risks, engage in conversations, and never shy away from trying something new – your next great adventure might be waiting around the corner!\",\n",
              " ' Once upon a time, in a small town named Harmonyville, lived three friends - Sammy the Sunflower, Billy the Breeze, and George the Green Tree. They were not ordinary plants; they had feelings and could talk! These three friends loved their town and played together every day. However, one day they noticed something strange happening around them. It was getting hotter than usual during summer, winters weren\\'t so cold anymore, and sometimes it even rained when it shouldn\\'t. This worried our little friends deeply.\\n\\nSammy, being bright and curious, decided to ask Mr. Wise Owl, the oldest creature in Harmonyville, about these changes. \"Mr. Wise Owl,\" asked Sammy, \"why has our weather become so unpredictable?\" Mr. Wise Owl sighed before answering, \"Dear Sammy, humans burn too much coal, oil, and gas for electricity, heat, and transportation which releases gases into Earth\\'s atmosphere trapping more sunlight causing temperatures to rise.\"\\n\\n\"Oh no!\" cried out Billy and George joining the conversation. Mr. Wise Owl continued, \"But don\\'t worry my young friends, we can help by showing the humans how to use other forms of energy like solar, wind power, and water current instead of burning fuels.\" \\n\\nWith newfound hope, Sammy, Billy, and George took action. With the guidance of Mr. Wise Owl, they started spreading knowledge about alternative energy sources and encouraged everyone to save energy wherever possible. Many humans listened and made positive changes reducing their carbon footprints. But sadly, despite all efforts, the unusual weather patterns did not completely disappear because there were still many humans who didn\\'t heed the advice.\\n\\nThough disheartened, our brave trio learned valuable lessons on resilience and perseverance. Even if you cannot solve a problem entirely, every effort counts and contributes towards making things better. And importantly, never underestimate the importance of sharing knowledge and working collaboratively to protect our beautiful planet home.',\n",
              " \" On a bright, sunny day, two best friends, Timmy the Gazelle and Sally the Seal, decided to go on an adventure. They wanted to explore their homes of the grassland and ocean, and see which was better - running or swimming.\\n\\nAs they started their journey, Timmy leaped and bounded through the tall, green grass. He exclaimed, “Wow! Running is so much fun! It feels like I am flying!” Sally agreed, “Yes, Timmy, but let me show you how wonderful swimming can be too!” She then dove into the cool, crystal-clear water and began to swim effortlessly. She said, “Swimming is like being one with the water. It makes me feel free and peaceful.”\\n\\nTimmy and Sally spent all day exploring their worlds and comparing their experiences. Timmy marveled at the way Sally moved through the water, almost as if she were part of it. And Sally couldn’t believe how fast and agile Timmy was on land. At lunchtime, they talked about what they had learned. Timmy shared his discovery about friction – how he used it to run quickly by pushing off the ground, leaving small pits behind him. Sally explained buoyancy, saying that even though seals weigh a lot, they float easily because of the water’s support.\\n\\nFinally, they wondered who would win a race combining both running and swimming. A wise old turtle overheard their discussion and suggested organizing a competition among various animals. Everyone gathered near the river, excited and curious. To everyone's surprise, neither Timmy nor Sally won; instead, it was Kiki Koala, who climbed trees swiftly and swam strongly against the current. Though initially disappointed, Timmy and Sally realized something crucial: every creature has unique abilities, making each special and valuable. This unexpected revelation taught them a significant lesson about embracing diversity and celebrating differences in both nature and life.\"]"
            ]
          },
          "execution_count": 8,
          "metadata": {},
          "output_type": "execute_result"
        }
      ],
      "source": [
        "dataset[\"text\"][:5]"
      ]
    },
    {
      "cell_type": "code",
      "execution_count": 9,
      "metadata": {
        "id": "ZQNsDfKZ3GHe"
      },
      "outputs": [],
      "source": [
        "max_seq_len = 1024\n",
        "\n",
        "class PaddedSequenceTokenDataset(Dataset):\n",
        "    def __init__(self, texts, vocab_size, max_seq_len):\n",
        "        self.texts = texts\n",
        "        self.vocab_size = vocab_size\n",
        "        self.max_seq_len = max_seq_len\n",
        "\n",
        "    def __len__(self):\n",
        "        return len(self.texts)\n",
        "\n",
        "    def __getitem__(self, idx):\n",
        "        text = self.texts[idx]\n",
        "        tokenized_text = torch.tensor(tokenize_text(text, tokenizer), dtype=torch.long, requires_grad=False)\n",
        "        padded_sequence = torch.nn.functional.pad(tokenized_text, (0, self.max_seq_len - len(tokenized_text)), \"constant\", 0)  # Pad on the left\n",
        "        return padded_sequence\n",
        "\n",
        "vocab_size = 10000  # This is the size of your vocabulary\n",
        "padded_dataset = PaddedSequenceTokenDataset(dataset[\"text\"], vocab_size, max_seq_len)"
      ]
    },
    {
      "cell_type": "code",
      "execution_count": 10,
      "metadata": {
        "id": "bPdTS-ZS3GHe"
      },
      "outputs": [],
      "source": [
        "batch_size = 1 # This is the size of the batches you want to load\n",
        "data_loader = DataLoader(padded_dataset, batch_size=batch_size, num_workers=0, pin_memory=False)"
      ]
    },
    {
      "cell_type": "code",
      "execution_count": 11,
      "metadata": {
        "colab": {
          "base_uri": "https://localhost:8080/"
        },
        "id": "cYbH9ipO3GHf",
        "outputId": "d317bef7-23a2-4e3d-e4b6-9ab85b1d0f54"
      },
      "outputs": [
        {
          "name": "stdout",
          "output_type": "stream",
          "text": [
            "tensor([[    1,   733, 16289,  ...,     0,     0,     0]])\n"
          ]
        }
      ],
      "source": [
        "for batch in data_loader:\n",
        "    print(batch[:100])\n",
        "    break"
      ]
    },
    {
      "cell_type": "code",
      "execution_count": 12,
      "metadata": {
        "id": "WjKcesKQ3GHf"
      },
      "outputs": [],
      "source": [
        "# Create a new ModelArgs object with the desired configuration\n",
        "model_args = ModelArgs(\n",
        "    dim=128,\n",
        "    n_layers=2,\n",
        "    head_dim=4,\n",
        "    hidden_dim=128,\n",
        "    n_heads=4,\n",
        "    n_kv_heads=4,\n",
        "    vocab_size=32000,\n",
        "    norm_eps=1e-5,\n",
        "    max_batch_size=3,\n",
        ")\n",
        "\n",
        "# Create a new Transformer object with random weights\n",
        "model = Transformer(model_args).to(\"cuda\", dtype=torch.float32)\n",
        "#model = torch.compile(model)"
      ]
    },
    {
      "cell_type": "code",
      "execution_count": 13,
      "metadata": {
        "colab": {
          "base_uri": "https://localhost:8080/"
        },
        "id": "b-qMsb8D3GHf",
        "outputId": "54996bf6-2fb4-4bd8-ccaf-6ba9653c49a1"
      },
      "outputs": [
        {
          "data": {
            "text/plain": [
              "=================================================================\n",
              "Layer (type:depth-idx)                   Param #\n",
              "=================================================================\n",
              "Transformer                              --\n",
              "├─Embedding: 1-1                         4,096,000\n",
              "├─ModuleList: 1-2                        --\n",
              "│    └─TransformerBlock: 2-1             --\n",
              "│    │    └─Attention: 3-1               8,192\n",
              "│    │    └─FeedForward: 3-2             49,152\n",
              "│    │    └─RMSNorm: 3-3                 128\n",
              "│    │    └─RMSNorm: 3-4                 128\n",
              "│    └─TransformerBlock: 2-2             --\n",
              "│    │    └─Attention: 3-5               8,192\n",
              "│    │    └─FeedForward: 3-6             49,152\n",
              "│    │    └─RMSNorm: 3-7                 128\n",
              "│    │    └─RMSNorm: 3-8                 128\n",
              "├─RMSNorm: 1-3                           128\n",
              "├─Linear: 1-4                            4,096,000\n",
              "=================================================================\n",
              "Total params: 8,307,328\n",
              "Trainable params: 8,307,328\n",
              "Non-trainable params: 0\n",
              "================================================================="
            ]
          },
          "execution_count": 13,
          "metadata": {},
          "output_type": "execute_result"
        }
      ],
      "source": [
        "torchinfo.summary(model)"
      ]
    },
    {
      "cell_type": "code",
      "execution_count": 14,
      "metadata": {
        "colab": {
          "base_uri": "https://localhost:8080/"
        },
        "id": "8lWds3MF3GHg",
        "outputId": "84558be2-95f7-471c-c367-68b78c232006"
      },
      "outputs": [
        {
          "name": "stdout",
          "output_type": "stream",
          "text": [
            "Memory allocated by PyTorch on the GPU: 46.39 MB\n"
          ]
        }
      ],
      "source": [
        "# Get the number of bytes currently allocated on the GPU\n",
        "allocated_bytes = torch.cuda.memory_allocated()\n",
        "\n",
        "# Convert to megabytes\n",
        "allocated_mb = allocated_bytes / 1_048_576\n",
        "\n",
        "print(f'Memory allocated by PyTorch on the GPU: {allocated_mb:.2f} MB')"
      ]
    },
    {
      "cell_type": "code",
      "execution_count": 15,
      "metadata": {
        "colab": {
          "base_uri": "https://localhost:8080/"
        },
        "id": "-IY3DnMx3GHg",
        "outputId": "4cfb731c-94a5-491b-e3ea-dc0cbe0501fb"
      },
      "outputs": [
        {
          "name": "stdout",
          "output_type": "stream",
          "text": [
            "Number of parameters: 8307328\n",
            "Number of buffers: 0\n",
            "Memory for parameters: 31.69 MB\n",
            "Memory for buffers: 0.00 MB\n"
          ]
        }
      ],
      "source": [
        "num_params = sum(p.numel() for p in model.parameters())\n",
        "num_buffers = sum(b.numel() for b in model.buffers())\n",
        "\n",
        "# Convert to bytes\n",
        "params_bytes = num_params * 4\n",
        "buffers_bytes = num_buffers * 4\n",
        "\n",
        "# Convert to megabytes\n",
        "params_mb = params_bytes / 1_048_576\n",
        "buffers_mb = buffers_bytes / 1_048_576\n",
        "\n",
        "print(f'Number of parameters: {num_params}')\n",
        "print(f'Number of buffers: {num_buffers}')\n",
        "print(f'Memory for parameters: {params_mb:.2f} MB')\n",
        "print(f'Memory for buffers: {buffers_mb:.2f} MB')"
      ]
    },
    {
      "cell_type": "code",
      "execution_count": 16,
      "metadata": {
        "colab": {
          "base_uri": "https://localhost:8080/",
          "height": 1000,
          "referenced_widgets": [
            "77a5b915198542c5bcc4c6a37cebb8ca",
            "a4ab42baf85c44abba145c7f9cbf35e5",
            "2f57e7b9a8f84e63b278c532294eba45",
            "e585ccf618664aec987a1546110a44ec",
            "c2e39409397c4a498032a14aa7db2072",
            "f96ae5f1bfb346b3bce68c613a83cba1",
            "5e7394908a6e424985090a8680b2860e",
            "7a3c6850e4184dc7a011f45bc3d17752",
            "0d577748e393436b827133699992f97f",
            "6aa310032e16461085b3349781464970",
            "4a42b55b789f41979c26aca91dc898fa"
          ]
        },
        "id": "WR5Xqsnl3GHh",
        "outputId": "aa65d7d6-8d3b-4198-fb94-24f7db37cc94"
      },
      "outputs": [
        {
          "name": "stdout",
          "output_type": "stream",
          "text": [
            "Epoch 1, Batch 999, Loss: 7.1582980155944825"
          ]
        }
      ],
      "source": [
        "# Create directories if they don't exist\n",
        "os.makedirs('models', exist_ok=True)\n",
        "os.makedirs('logs', exist_ok=True)\n",
        "\n",
        "# Get current date and time\n",
        "now = datetime.datetime.now()\n",
        "date_time = now.strftime(\"%Y-%m-%d_%H-%M-%S\")\n",
        "\n",
        "# Find the next available run number\n",
        "run_number = 0\n",
        "while os.path.exists(f'logs/training-run-{run_number}-{date_time}.log'):\n",
        "    run_number += 1\n",
        "\n",
        "# Set up logging\n",
        "logging.basicConfig(filename=f'logs/training-run-{run_number}-{date_time}.log', level=logging.INFO)\n",
        "\n",
        "# Move model to GPU\n",
        "model.to(device)\n",
        "\n",
        "optimizer = optim.Adam(model.parameters(), lr=1e-5)\n",
        "loss_fn = nn.CrossEntropyLoss()\n",
        "\n",
        "positions = torch.arange(0, max_seq_len).to(device)\n",
        "\n",
        "model.train()\n",
        "num_epochs = 1\n",
        "for epoch in range(num_epochs):\n",
        "    for batch_idx, batch in enumerate(data_loader):\n",
        "        input_ids = batch.to(device)\n",
        "\n",
        "        logits = model.forward(input_ids, positions)\n",
        "        logprobs = nn.functional.log_softmax(logits, dim=-1)\n",
        "\n",
        "        with torch.no_grad():\n",
        "            _, predicted = torch.max(logprobs, dim=2)\n",
        "\n",
        "        loss = loss_fn(logprobs.view(-1, logprobs.size(-1)), input_ids.view(-1))\n",
        "        print(f'\\rEpoch {epoch+1}, Batch {batch_idx}, Loss: {loss.item()}', end='')\n",
        "        logging.info(f'Epoch {epoch+1}, Batch {batch_idx}, Loss: {loss.item()}')\n",
        "\n",
        "        loss.backward()\n",
        "        optimizer.step()\n",
        "        optimizer.zero_grad()\n",
        "\n",
        "        # Delete variables that are no longer needed\n",
        "        del logits, logprobs, predicted, loss\n",
        "\n",
        "        # Save model checkpoint every 100 batches\n",
        "        if (batch_idx + 1) % 500 == 0:\n",
        "            torch.save(model.state_dict(), f'models/model_checkpoint_run-{run_number}_{date_time}_epoch-{epoch+1}_batch-{batch_idx}.pth')\n",
        "\n",
        "    # Move model to CPU\n",
        "    model.cpu()\n",
        "\n",
        "    # Clear GPU memory and force garbage collection\n",
        "    with torch.no_grad():\n",
        "        torch.cuda.empty_cache()\n",
        "    gc.collect()\n",
        "\n",
        "    # Move model back to GPU\n",
        "    model.to(device)"
      ]
    },
    {
      "cell_type": "code",
      "execution_count": 30,
      "metadata": {
        "id": "edXCEFww3GHh"
      },
      "outputs": [
        {
          "name": "stdout",
          "output_type": "stream",
          "text": [
            "[INST] My Name is Leo [/INST]<?acts publicationsbgSprintf syntax terr Finallymaticacingheaded insisted respon Čdatabase internet advice pointsSN steady tense afterwardsLOG Othersool Bushteen evolution anymoreImage removeonymOrigin disadv lasting\n"
          ]
        }
      ],
      "source": [
        "prompt = \"My Name is Leo\"\n",
        "generated_text, logprobs = generate([prompt], model, tokenizer, max_tokens=35)\n",
        "print(generated_text[0])"
      ]
    },
    {
      "cell_type": "code",
      "execution_count": 28,
      "metadata": {
        "id": "aESL6ypP3GHh"
      },
      "outputs": [
        {
          "data": {
            "image/png": "[encoded data removed]",
            "text/plain": [
              "<Figure size 640x480 with 1 Axes>"
            ]
          },
          "metadata": {},
          "output_type": "display_data"
        },
        {
          "data": {
            "text/plain": [
              "<Figure size 640x480 with 0 Axes>"
            ]
          },
          "metadata": {},
          "output_type": "display_data"
        }
      ],
      "source": [
        "import matplotlib.pyplot as plt\n",
        "\n",
        "# Read the log file\n",
        "log_file_path = \"logs/training-run-0-2024-07-02_21-02-05.log\"\n",
        "with open(log_file_path, \"r\") as file:\n",
        "    lines = file.readlines()\n",
        "\n",
        "# Initialize lists to store the parsed data\n",
        "epochs = []\n",
        "batches = []\n",
        "losses = []\n",
        "\n",
        "# Parse each line in the log file\n",
        "for line in lines:\n",
        "    if \"Loss\" in line:\n",
        "        parts = line.strip().split(',')\n",
        "        epoch = int(parts[0].split()[-1])\n",
        "        batch = int(parts[1].split()[-1])\n",
        "        loss = float(parts[2].split()[-1])\n",
        "        \n",
        "        epochs.append(epoch)\n",
        "        batches.append(batch)\n",
        "        losses.append(loss)\n",
        "\n",
        "# Create a figure and axis\n",
        "fig, ax = plt.subplots()\n",
        "\n",
        "# Plot the loss values\n",
        "ax.plot(range(len(losses)), losses, label=\"Loss\")\n",
        "\n",
        "# Set the title and labels\n",
        "ax.set_title(\"Training Loss Curve\")\n",
        "ax.set_xlabel(\"Batch\")\n",
        "ax.set_ylabel(\"Loss\")\n",
        "ax.legend()\n",
        "\n",
        "# Show the plot\n",
        "plt.show()\n",
        "plt.savefig(\"logs/loss.png\")"
      ]
    }
  ],
  "metadata": {
    "accelerator": "GPU",
    "colab": {
      "gpuType": "T4",
      "provenance": []
    },
    "kernelspec": {
      "display_name": "Python 3",
      "name": "python3"
    },
    "language_info": {
      "codemirror_mode": {
        "name": "ipython",
        "version": 3
      },
      "file_extension": ".py",
      "mimetype": "text/x-python",
      "name": "python",
      "nbconvert_exporter": "python",
      "pygments_lexer": "ipython3",
      "version": "3.12.3"
    },
    "widgets": {
      "application/vnd.jupyter.widget-state+json": {
        "0d577748e393436b827133699992f97f": {
          "model_module": "@jupyter-widgets/controls",
          "model_module_version": "1.5.0",
          "model_name": "ProgressStyleModel",
          "state": {
            "_model_module": "@jupyter-widgets/controls",
            "_model_module_version": "1.5.0",
            "_model_name": "ProgressStyleModel",
            "_view_count": null,
            "_view_module": "@jupyter-widgets/base",
            "_view_module_version": "1.2.0",
            "_view_name": "StyleView",
            "bar_color": null,
            "description_width": ""
          }
        },
        "2258d702c4bf4ac9955f1a49a99661fd": {
          "model_module": "@jupyter-widgets/controls",
          "model_module_version": "1.5.0",
          "model_name": "DescriptionStyleModel",
          "state": {
            "_model_module": "@jupyter-widgets/controls",
            "_model_module_version": "1.5.0",
            "_model_name": "DescriptionStyleModel",
            "_view_count": null,
            "_view_module": "@jupyter-widgets/base",
            "_view_module_version": "1.2.0",
            "_view_name": "StyleView",
            "description_width": ""
          }
        },
        "2737bf134bd2439d890d1dc79bf2acd0": {
          "model_module": "@jupyter-widgets/base",
          "model_module_version": "1.2.0",
          "model_name": "LayoutModel",
          "state": {
            "_model_module": "@jupyter-widgets/base",
            "_model_module_version": "1.2.0",
            "_model_name": "LayoutModel",
            "_view_count": null,
            "_view_module": "@jupyter-widgets/base",
            "_view_module_version": "1.2.0",
            "_view_name": "LayoutView",
            "align_content": null,
            "align_items": null,
            "align_self": null,
            "border": null,
            "bottom": null,
            "display": null,
            "flex": null,
            "flex_flow": null,
            "grid_area": null,
            "grid_auto_columns": null,
            "grid_auto_flow": null,
            "grid_auto_rows": null,
            "grid_column": null,
            "grid_gap": null,
            "grid_row": null,
            "grid_template_areas": null,
            "grid_template_columns": null,
            "grid_template_rows": null,
            "height": null,
            "justify_content": null,
            "justify_items": null,
            "left": null,
            "margin": null,
            "max_height": null,
            "max_width": null,
            "min_height": null,
            "min_width": null,
            "object_fit": null,
            "object_position": null,
            "order": null,
            "overflow": null,
            "overflow_x": null,
            "overflow_y": null,
            "padding": null,
            "right": null,
            "top": null,
            "visibility": null,
            "width": null
          }
        },
        "2f57e7b9a8f84e63b278c532294eba45": {
          "model_module": "@jupyter-widgets/controls",
          "model_module_version": "1.5.0",
          "model_name": "FloatProgressModel",
          "state": {
            "_dom_classes": [],
            "_model_module": "@jupyter-widgets/controls",
            "_model_module_version": "1.5.0",
            "_model_name": "FloatProgressModel",
            "_view_count": null,
            "_view_module": "@jupyter-widgets/controls",
            "_view_module_version": "1.5.0",
            "_view_name": "ProgressView",
            "bar_style": "danger",
            "description": "",
            "description_tooltip": null,
            "layout": "IPY_MODEL_7a3c6850e4184dc7a011f45bc3d17752",
            "max": 10000,
            "min": 0,
            "orientation": "horizontal",
            "style": "IPY_MODEL_0d577748e393436b827133699992f97f",
            "value": 261
          }
        },
        "361024b5f8ed4439a2efd4318a5f9f64": {
          "model_module": "@jupyter-widgets/controls",
          "model_module_version": "1.5.0",
          "model_name": "HTMLModel",
          "state": {
            "_dom_classes": [],
            "_model_module": "@jupyter-widgets/controls",
            "_model_module_version": "1.5.0",
            "_model_name": "HTMLModel",
            "_view_count": null,
            "_view_module": "@jupyter-widgets/controls",
            "_view_module_version": "1.5.0",
            "_view_name": "HTMLView",
            "description": "",
            "description_tooltip": null,
            "layout": "IPY_MODEL_d8b000402d34441f828465e843a9de48",
            "placeholder": "​",
            "style": "IPY_MODEL_69844ed26324456c8113015a43876956",
            "value": " 18/18 [00:00&lt;00:00, 70.82it/s]"
          }
        },
        "4028fd9df8134c7aa6df03c380182ee9": {
          "model_module": "@jupyter-widgets/base",
          "model_module_version": "1.2.0",
          "model_name": "LayoutModel",
          "state": {
            "_model_module": "@jupyter-widgets/base",
            "_model_module_version": "1.2.0",
            "_model_name": "LayoutModel",
            "_view_count": null,
            "_view_module": "@jupyter-widgets/base",
            "_view_module_version": "1.2.0",
            "_view_name": "LayoutView",
            "align_content": null,
            "align_items": null,
            "align_self": null,
            "border": null,
            "bottom": null,
            "display": null,
            "flex": null,
            "flex_flow": null,
            "grid_area": null,
            "grid_auto_columns": null,
            "grid_auto_flow": null,
            "grid_auto_rows": null,
            "grid_column": null,
            "grid_gap": null,
            "grid_row": null,
            "grid_template_areas": null,
            "grid_template_columns": null,
            "grid_template_rows": null,
            "height": null,
            "justify_content": null,
            "justify_items": null,
            "left": null,
            "margin": null,
            "max_height": null,
            "max_width": null,
            "min_height": null,
            "min_width": null,
            "object_fit": null,
            "object_position": null,
            "order": null,
            "overflow": null,
            "overflow_x": null,
            "overflow_y": null,
            "padding": null,
            "right": null,
            "top": null,
            "visibility": null,
            "width": null
          }
        },
        "440990e26adb4b14bf886ac4ec307c85": {
          "model_module": "@jupyter-widgets/base",
          "model_module_version": "1.2.0",
          "model_name": "LayoutModel",
          "state": {
            "_model_module": "@jupyter-widgets/base",
            "_model_module_version": "1.2.0",
            "_model_name": "LayoutModel",
            "_view_count": null,
            "_view_module": "@jupyter-widgets/base",
            "_view_module_version": "1.2.0",
            "_view_name": "LayoutView",
            "align_content": null,
            "align_items": null,
            "align_self": null,
            "border": null,
            "bottom": null,
            "display": null,
            "flex": null,
            "flex_flow": null,
            "grid_area": null,
            "grid_auto_columns": null,
            "grid_auto_flow": null,
            "grid_auto_rows": null,
            "grid_column": null,
            "grid_gap": null,
            "grid_row": null,
            "grid_template_areas": null,
            "grid_template_columns": null,
            "grid_template_rows": null,
            "height": null,
            "justify_content": null,
            "justify_items": null,
            "left": null,
            "margin": null,
            "max_height": null,
            "max_width": null,
            "min_height": null,
            "min_width": null,
            "object_fit": null,
            "object_position": null,
            "order": null,
            "overflow": null,
            "overflow_x": null,
            "overflow_y": null,
            "padding": null,
            "right": null,
            "top": null,
            "visibility": null,
            "width": null
          }
        },
        "4a42b55b789f41979c26aca91dc898fa": {
          "model_module": "@jupyter-widgets/controls",
          "model_module_version": "1.5.0",
          "model_name": "DescriptionStyleModel",
          "state": {
            "_model_module": "@jupyter-widgets/controls",
            "_model_module_version": "1.5.0",
            "_model_name": "DescriptionStyleModel",
            "_view_count": null,
            "_view_module": "@jupyter-widgets/base",
            "_view_module_version": "1.2.0",
            "_view_name": "StyleView",
            "description_width": ""
          }
        },
        "58eedd464d9f4a79b64baab60136ad30": {
          "model_module": "@jupyter-widgets/controls",
          "model_module_version": "1.5.0",
          "model_name": "FloatProgressModel",
          "state": {
            "_dom_classes": [],
            "_model_module": "@jupyter-widgets/controls",
            "_model_module_version": "1.5.0",
            "_model_name": "FloatProgressModel",
            "_view_count": null,
            "_view_module": "@jupyter-widgets/controls",
            "_view_module_version": "1.5.0",
            "_view_name": "ProgressView",
            "bar_style": "success",
            "description": "",
            "description_tooltip": null,
            "layout": "IPY_MODEL_4028fd9df8134c7aa6df03c380182ee9",
            "max": 43,
            "min": 0,
            "orientation": "horizontal",
            "style": "IPY_MODEL_c75c568657fc42408314acc2dcb236e6",
            "value": 43
          }
        },
        "5ab3eeb37f5442758fe7404b04bdf171": {
          "model_module": "@jupyter-widgets/controls",
          "model_module_version": "1.5.0",
          "model_name": "DescriptionStyleModel",
          "state": {
            "_model_module": "@jupyter-widgets/controls",
            "_model_module_version": "1.5.0",
            "_model_name": "DescriptionStyleModel",
            "_view_count": null,
            "_view_module": "@jupyter-widgets/base",
            "_view_module_version": "1.2.0",
            "_view_name": "StyleView",
            "description_width": ""
          }
        },
        "5aff115b001e47e783c193984cb46b99": {
          "model_module": "@jupyter-widgets/base",
          "model_module_version": "1.2.0",
          "model_name": "LayoutModel",
          "state": {
            "_model_module": "@jupyter-widgets/base",
            "_model_module_version": "1.2.0",
            "_model_name": "LayoutModel",
            "_view_count": null,
            "_view_module": "@jupyter-widgets/base",
            "_view_module_version": "1.2.0",
            "_view_name": "LayoutView",
            "align_content": null,
            "align_items": null,
            "align_self": null,
            "border": null,
            "bottom": null,
            "display": null,
            "flex": null,
            "flex_flow": null,
            "grid_area": null,
            "grid_auto_columns": null,
            "grid_auto_flow": null,
            "grid_auto_rows": null,
            "grid_column": null,
            "grid_gap": null,
            "grid_row": null,
            "grid_template_areas": null,
            "grid_template_columns": null,
            "grid_template_rows": null,
            "height": null,
            "justify_content": null,
            "justify_items": null,
            "left": null,
            "margin": null,
            "max_height": null,
            "max_width": null,
            "min_height": null,
            "min_width": null,
            "object_fit": null,
            "object_position": null,
            "order": null,
            "overflow": null,
            "overflow_x": null,
            "overflow_y": null,
            "padding": null,
            "right": null,
            "top": null,
            "visibility": null,
            "width": null
          }
        },
        "5e5d11aeb2394204b80a006bee14412b": {
          "model_module": "@jupyter-widgets/controls",
          "model_module_version": "1.5.0",
          "model_name": "ProgressStyleModel",
          "state": {
            "_model_module": "@jupyter-widgets/controls",
            "_model_module_version": "1.5.0",
            "_model_name": "ProgressStyleModel",
            "_view_count": null,
            "_view_module": "@jupyter-widgets/base",
            "_view_module_version": "1.2.0",
            "_view_name": "StyleView",
            "bar_color": null,
            "description_width": ""
          }
        },
        "5e7394908a6e424985090a8680b2860e": {
          "model_module": "@jupyter-widgets/controls",
          "model_module_version": "1.5.0",
          "model_name": "DescriptionStyleModel",
          "state": {
            "_model_module": "@jupyter-widgets/controls",
            "_model_module_version": "1.5.0",
            "_model_name": "DescriptionStyleModel",
            "_view_count": null,
            "_view_module": "@jupyter-widgets/base",
            "_view_module_version": "1.2.0",
            "_view_name": "StyleView",
            "description_width": ""
          }
        },
        "69844ed26324456c8113015a43876956": {
          "model_module": "@jupyter-widgets/controls",
          "model_module_version": "1.5.0",
          "model_name": "DescriptionStyleModel",
          "state": {
            "_model_module": "@jupyter-widgets/controls",
            "_model_module_version": "1.5.0",
            "_model_name": "DescriptionStyleModel",
            "_view_count": null,
            "_view_module": "@jupyter-widgets/base",
            "_view_module_version": "1.2.0",
            "_view_name": "StyleView",
            "description_width": ""
          }
        },
        "6aa310032e16461085b3349781464970": {
          "model_module": "@jupyter-widgets/base",
          "model_module_version": "1.2.0",
          "model_name": "LayoutModel",
          "state": {
            "_model_module": "@jupyter-widgets/base",
            "_model_module_version": "1.2.0",
            "_model_name": "LayoutModel",
            "_view_count": null,
            "_view_module": "@jupyter-widgets/base",
            "_view_module_version": "1.2.0",
            "_view_name": "LayoutView",
            "align_content": null,
            "align_items": null,
            "align_self": null,
            "border": null,
            "bottom": null,
            "display": null,
            "flex": null,
            "flex_flow": null,
            "grid_area": null,
            "grid_auto_columns": null,
            "grid_auto_flow": null,
            "grid_auto_rows": null,
            "grid_column": null,
            "grid_gap": null,
            "grid_row": null,
            "grid_template_areas": null,
            "grid_template_columns": null,
            "grid_template_rows": null,
            "height": null,
            "justify_content": null,
            "justify_items": null,
            "left": null,
            "margin": null,
            "max_height": null,
            "max_width": null,
            "min_height": null,
            "min_width": null,
            "object_fit": null,
            "object_position": null,
            "order": null,
            "overflow": null,
            "overflow_x": null,
            "overflow_y": null,
            "padding": null,
            "right": null,
            "top": null,
            "visibility": null,
            "width": null
          }
        },
        "77a5b915198542c5bcc4c6a37cebb8ca": {
          "model_module": "@jupyter-widgets/controls",
          "model_module_version": "1.5.0",
          "model_name": "HBoxModel",
          "state": {
            "_dom_classes": [],
            "_model_module": "@jupyter-widgets/controls",
            "_model_module_version": "1.5.0",
            "_model_name": "HBoxModel",
            "_view_count": null,
            "_view_module": "@jupyter-widgets/controls",
            "_view_module_version": "1.5.0",
            "_view_name": "HBoxView",
            "box_style": "",
            "children": [
              "IPY_MODEL_a4ab42baf85c44abba145c7f9cbf35e5",
              "IPY_MODEL_2f57e7b9a8f84e63b278c532294eba45",
              "IPY_MODEL_e585ccf618664aec987a1546110a44ec"
            ],
            "layout": "IPY_MODEL_c2e39409397c4a498032a14aa7db2072"
          }
        },
        "7a3c6850e4184dc7a011f45bc3d17752": {
          "model_module": "@jupyter-widgets/base",
          "model_module_version": "1.2.0",
          "model_name": "LayoutModel",
          "state": {
            "_model_module": "@jupyter-widgets/base",
            "_model_module_version": "1.2.0",
            "_model_name": "LayoutModel",
            "_view_count": null,
            "_view_module": "@jupyter-widgets/base",
            "_view_module_version": "1.2.0",
            "_view_name": "LayoutView",
            "align_content": null,
            "align_items": null,
            "align_self": null,
            "border": null,
            "bottom": null,
            "display": null,
            "flex": null,
            "flex_flow": null,
            "grid_area": null,
            "grid_auto_columns": null,
            "grid_auto_flow": null,
            "grid_auto_rows": null,
            "grid_column": null,
            "grid_gap": null,
            "grid_row": null,
            "grid_template_areas": null,
            "grid_template_columns": null,
            "grid_template_rows": null,
            "height": null,
            "justify_content": null,
            "justify_items": null,
            "left": null,
            "margin": null,
            "max_height": null,
            "max_width": null,
            "min_height": null,
            "min_width": null,
            "object_fit": null,
            "object_position": null,
            "order": null,
            "overflow": null,
            "overflow_x": null,
            "overflow_y": null,
            "padding": null,
            "right": null,
            "top": null,
            "visibility": null,
            "width": null
          }
        },
        "821eb28db69548138edb24d86042be08": {
          "model_module": "@jupyter-widgets/controls",
          "model_module_version": "1.5.0",
          "model_name": "HTMLModel",
          "state": {
            "_dom_classes": [],
            "_model_module": "@jupyter-widgets/controls",
            "_model_module_version": "1.5.0",
            "_model_name": "HTMLModel",
            "_view_count": null,
            "_view_module": "@jupyter-widgets/controls",
            "_view_module_version": "1.5.0",
            "_view_name": "HTMLView",
            "description": "",
            "description_tooltip": null,
            "layout": "IPY_MODEL_b0cde5d7682a4e9394eff1952d2d95d0",
            "placeholder": "​",
            "style": "IPY_MODEL_5ab3eeb37f5442758fe7404b04bdf171",
            "value": " 43/43 [00:00&lt;00:00, 1772.95it/s]"
          }
        },
        "a4ab42baf85c44abba145c7f9cbf35e5": {
          "model_module": "@jupyter-widgets/controls",
          "model_module_version": "1.5.0",
          "model_name": "HTMLModel",
          "state": {
            "_dom_classes": [],
            "_model_module": "@jupyter-widgets/controls",
            "_model_module_version": "1.5.0",
            "_model_name": "HTMLModel",
            "_view_count": null,
            "_view_module": "@jupyter-widgets/controls",
            "_view_module_version": "1.5.0",
            "_view_name": "HTMLView",
            "description": "",
            "description_tooltip": null,
            "layout": "IPY_MODEL_f96ae5f1bfb346b3bce68c613a83cba1",
            "placeholder": "​",
            "style": "IPY_MODEL_5e7394908a6e424985090a8680b2860e",
            "value": "  3%"
          }
        },
        "b0cde5d7682a4e9394eff1952d2d95d0": {
          "model_module": "@jupyter-widgets/base",
          "model_module_version": "1.2.0",
          "model_name": "LayoutModel",
          "state": {
            "_model_module": "@jupyter-widgets/base",
            "_model_module_version": "1.2.0",
            "_model_name": "LayoutModel",
            "_view_count": null,
            "_view_module": "@jupyter-widgets/base",
            "_view_module_version": "1.2.0",
            "_view_name": "LayoutView",
            "align_content": null,
            "align_items": null,
            "align_self": null,
            "border": null,
            "bottom": null,
            "display": null,
            "flex": null,
            "flex_flow": null,
            "grid_area": null,
            "grid_auto_columns": null,
            "grid_auto_flow": null,
            "grid_auto_rows": null,
            "grid_column": null,
            "grid_gap": null,
            "grid_row": null,
            "grid_template_areas": null,
            "grid_template_columns": null,
            "grid_template_rows": null,
            "height": null,
            "justify_content": null,
            "justify_items": null,
            "left": null,
            "margin": null,
            "max_height": null,
            "max_width": null,
            "min_height": null,
            "min_width": null,
            "object_fit": null,
            "object_position": null,
            "order": null,
            "overflow": null,
            "overflow_x": null,
            "overflow_y": null,
            "padding": null,
            "right": null,
            "top": null,
            "visibility": null,
            "width": null
          }
        },
        "bb403f3fba824a0b9d0f8324ad9963da": {
          "model_module": "@jupyter-widgets/controls",
          "model_module_version": "1.5.0",
          "model_name": "FloatProgressModel",
          "state": {
            "_dom_classes": [],
            "_model_module": "@jupyter-widgets/controls",
            "_model_module_version": "1.5.0",
            "_model_name": "FloatProgressModel",
            "_view_count": null,
            "_view_module": "@jupyter-widgets/controls",
            "_view_module_version": "1.5.0",
            "_view_name": "ProgressView",
            "bar_style": "success",
            "description": "",
            "description_tooltip": null,
            "layout": "IPY_MODEL_cc7ea66cb2ae4420af503521bc9b6678",
            "max": 18,
            "min": 0,
            "orientation": "horizontal",
            "style": "IPY_MODEL_5e5d11aeb2394204b80a006bee14412b",
            "value": 18
          }
        },
        "c2e39409397c4a498032a14aa7db2072": {
          "model_module": "@jupyter-widgets/base",
          "model_module_version": "1.2.0",
          "model_name": "LayoutModel",
          "state": {
            "_model_module": "@jupyter-widgets/base",
            "_model_module_version": "1.2.0",
            "_model_name": "LayoutModel",
            "_view_count": null,
            "_view_module": "@jupyter-widgets/base",
            "_view_module_version": "1.2.0",
            "_view_name": "LayoutView",
            "align_content": null,
            "align_items": null,
            "align_self": null,
            "border": null,
            "bottom": null,
            "display": null,
            "flex": null,
            "flex_flow": null,
            "grid_area": null,
            "grid_auto_columns": null,
            "grid_auto_flow": null,
            "grid_auto_rows": null,
            "grid_column": null,
            "grid_gap": null,
            "grid_row": null,
            "grid_template_areas": null,
            "grid_template_columns": null,
            "grid_template_rows": null,
            "height": null,
            "justify_content": null,
            "justify_items": null,
            "left": null,
            "margin": null,
            "max_height": null,
            "max_width": null,
            "min_height": null,
            "min_width": null,
            "object_fit": null,
            "object_position": null,
            "order": null,
            "overflow": null,
            "overflow_x": null,
            "overflow_y": null,
            "padding": null,
            "right": null,
            "top": null,
            "visibility": null,
            "width": null
          }
        },
        "c75c568657fc42408314acc2dcb236e6": {
          "model_module": "@jupyter-widgets/controls",
          "model_module_version": "1.5.0",
          "model_name": "ProgressStyleModel",
          "state": {
            "_model_module": "@jupyter-widgets/controls",
            "_model_module_version": "1.5.0",
            "_model_name": "ProgressStyleModel",
            "_view_count": null,
            "_view_module": "@jupyter-widgets/base",
            "_view_module_version": "1.2.0",
            "_view_name": "StyleView",
            "bar_color": null,
            "description_width": ""
          }
        },
        "ca31137ffdd04b4b8ce67cdd69b4fbb2": {
          "model_module": "@jupyter-widgets/controls",
          "model_module_version": "1.5.0",
          "model_name": "HTMLModel",
          "state": {
            "_dom_classes": [],
            "_model_module": "@jupyter-widgets/controls",
            "_model_module_version": "1.5.0",
            "_model_name": "HTMLModel",
            "_view_count": null,
            "_view_module": "@jupyter-widgets/controls",
            "_view_module_version": "1.5.0",
            "_view_name": "HTMLView",
            "description": "",
            "description_tooltip": null,
            "layout": "IPY_MODEL_440990e26adb4b14bf886ac4ec307c85",
            "placeholder": "​",
            "style": "IPY_MODEL_2258d702c4bf4ac9955f1a49a99661fd",
            "value": "Resolving data files: 100%"
          }
        },
        "cc7ea66cb2ae4420af503521bc9b6678": {
          "model_module": "@jupyter-widgets/base",
          "model_module_version": "1.2.0",
          "model_name": "LayoutModel",
          "state": {
            "_model_module": "@jupyter-widgets/base",
            "_model_module_version": "1.2.0",
            "_model_name": "LayoutModel",
            "_view_count": null,
            "_view_module": "@jupyter-widgets/base",
            "_view_module_version": "1.2.0",
            "_view_name": "LayoutView",
            "align_content": null,
            "align_items": null,
            "align_self": null,
            "border": null,
            "bottom": null,
            "display": null,
            "flex": null,
            "flex_flow": null,
            "grid_area": null,
            "grid_auto_columns": null,
            "grid_auto_flow": null,
            "grid_auto_rows": null,
            "grid_column": null,
            "grid_gap": null,
            "grid_row": null,
            "grid_template_areas": null,
            "grid_template_columns": null,
            "grid_template_rows": null,
            "height": null,
            "justify_content": null,
            "justify_items": null,
            "left": null,
            "margin": null,
            "max_height": null,
            "max_width": null,
            "min_height": null,
            "min_width": null,
            "object_fit": null,
            "object_position": null,
            "order": null,
            "overflow": null,
            "overflow_x": null,
            "overflow_y": null,
            "padding": null,
            "right": null,
            "top": null,
            "visibility": null,
            "width": null
          }
        },
        "d8545271cb184a83aa95c33ad9eb3770": {
          "model_module": "@jupyter-widgets/controls",
          "model_module_version": "1.5.0",
          "model_name": "DescriptionStyleModel",
          "state": {
            "_model_module": "@jupyter-widgets/controls",
            "_model_module_version": "1.5.0",
            "_model_name": "DescriptionStyleModel",
            "_view_count": null,
            "_view_module": "@jupyter-widgets/base",
            "_view_module_version": "1.2.0",
            "_view_name": "StyleView",
            "description_width": ""
          }
        },
        "d8b000402d34441f828465e843a9de48": {
          "model_module": "@jupyter-widgets/base",
          "model_module_version": "1.2.0",
          "model_name": "LayoutModel",
          "state": {
            "_model_module": "@jupyter-widgets/base",
            "_model_module_version": "1.2.0",
            "_model_name": "LayoutModel",
            "_view_count": null,
            "_view_module": "@jupyter-widgets/base",
            "_view_module_version": "1.2.0",
            "_view_name": "LayoutView",
            "align_content": null,
            "align_items": null,
            "align_self": null,
            "border": null,
            "bottom": null,
            "display": null,
            "flex": null,
            "flex_flow": null,
            "grid_area": null,
            "grid_auto_columns": null,
            "grid_auto_flow": null,
            "grid_auto_rows": null,
            "grid_column": null,
            "grid_gap": null,
            "grid_row": null,
            "grid_template_areas": null,
            "grid_template_columns": null,
            "grid_template_rows": null,
            "height": null,
            "justify_content": null,
            "justify_items": null,
            "left": null,
            "margin": null,
            "max_height": null,
            "max_width": null,
            "min_height": null,
            "min_width": null,
            "object_fit": null,
            "object_position": null,
            "order": null,
            "overflow": null,
            "overflow_x": null,
            "overflow_y": null,
            "padding": null,
            "right": null,
            "top": null,
            "visibility": null,
            "width": null
          }
        },
        "e585ccf618664aec987a1546110a44ec": {
          "model_module": "@jupyter-widgets/controls",
          "model_module_version": "1.5.0",
          "model_name": "HTMLModel",
          "state": {
            "_dom_classes": [],
            "_model_module": "@jupyter-widgets/controls",
            "_model_module_version": "1.5.0",
            "_model_name": "HTMLModel",
            "_view_count": null,
            "_view_module": "@jupyter-widgets/controls",
            "_view_module_version": "1.5.0",
            "_view_name": "HTMLView",
            "description": "",
            "description_tooltip": null,
            "layout": "IPY_MODEL_6aa310032e16461085b3349781464970",
            "placeholder": "​",
            "style": "IPY_MODEL_4a42b55b789f41979c26aca91dc898fa",
            "value": " 261/10000 [00:42&lt;26:17,  6.17it/s]"
          }
        },
        "e6e13bd2988a49d89a739be9ea017acd": {
          "model_module": "@jupyter-widgets/base",
          "model_module_version": "1.2.0",
          "model_name": "LayoutModel",
          "state": {
            "_model_module": "@jupyter-widgets/base",
            "_model_module_version": "1.2.0",
            "_model_name": "LayoutModel",
            "_view_count": null,
            "_view_module": "@jupyter-widgets/base",
            "_view_module_version": "1.2.0",
            "_view_name": "LayoutView",
            "align_content": null,
            "align_items": null,
            "align_self": null,
            "border": null,
            "bottom": null,
            "display": null,
            "flex": null,
            "flex_flow": null,
            "grid_area": null,
            "grid_auto_columns": null,
            "grid_auto_flow": null,
            "grid_auto_rows": null,
            "grid_column": null,
            "grid_gap": null,
            "grid_row": null,
            "grid_template_areas": null,
            "grid_template_columns": null,
            "grid_template_rows": null,
            "height": null,
            "justify_content": null,
            "justify_items": null,
            "left": null,
            "margin": null,
            "max_height": null,
            "max_width": null,
            "min_height": null,
            "min_width": null,
            "object_fit": null,
            "object_position": null,
            "order": null,
            "overflow": null,
            "overflow_x": null,
            "overflow_y": null,
            "padding": null,
            "right": null,
            "top": null,
            "visibility": null,
            "width": null
          }
        },
        "e8ae3b9bf71548f5be9bb2fd9ba4d6d0": {
          "model_module": "@jupyter-widgets/controls",
          "model_module_version": "1.5.0",
          "model_name": "HBoxModel",
          "state": {
            "_dom_classes": [],
            "_model_module": "@jupyter-widgets/controls",
            "_model_module_version": "1.5.0",
            "_model_name": "HBoxModel",
            "_view_count": null,
            "_view_module": "@jupyter-widgets/controls",
            "_view_module_version": "1.5.0",
            "_view_name": "HBoxView",
            "box_style": "",
            "children": [
              "IPY_MODEL_ca31137ffdd04b4b8ce67cdd69b4fbb2",
              "IPY_MODEL_bb403f3fba824a0b9d0f8324ad9963da",
              "IPY_MODEL_361024b5f8ed4439a2efd4318a5f9f64"
            ],
            "layout": "IPY_MODEL_5aff115b001e47e783c193984cb46b99"
          }
        },
        "f96ae5f1bfb346b3bce68c613a83cba1": {
          "model_module": "@jupyter-widgets/base",
          "model_module_version": "1.2.0",
          "model_name": "LayoutModel",
          "state": {
            "_model_module": "@jupyter-widgets/base",
            "_model_module_version": "1.2.0",
            "_model_name": "LayoutModel",
            "_view_count": null,
            "_view_module": "@jupyter-widgets/base",
            "_view_module_version": "1.2.0",
            "_view_name": "LayoutView",
            "align_content": null,
            "align_items": null,
            "align_self": null,
            "border": null,
            "bottom": null,
            "display": null,
            "flex": null,
            "flex_flow": null,
            "grid_area": null,
            "grid_auto_columns": null,
            "grid_auto_flow": null,
            "grid_auto_rows": null,
            "grid_column": null,
            "grid_gap": null,
            "grid_row": null,
            "grid_template_areas": null,
            "grid_template_columns": null,
            "grid_template_rows": null,
            "height": null,
            "justify_content": null,
            "justify_items": null,
            "left": null,
            "margin": null,
            "max_height": null,
            "max_width": null,
            "min_height": null,
            "min_width": null,
            "object_fit": null,
            "object_position": null,
            "order": null,
            "overflow": null,
            "overflow_x": null,
            "overflow_y": null,
            "padding": null,
            "right": null,
            "top": null,
            "visibility": null,
            "width": null
          }
        },
        "f9a1d18bbb5b4347a54347043d52a378": {
          "model_module": "@jupyter-widgets/controls",
          "model_module_version": "1.5.0",
          "model_name": "HTMLModel",
          "state": {
            "_dom_classes": [],
            "_model_module": "@jupyter-widgets/controls",
            "_model_module_version": "1.5.0",
            "_model_name": "HTMLModel",
            "_view_count": null,
            "_view_module": "@jupyter-widgets/controls",
            "_view_module_version": "1.5.0",
            "_view_name": "HTMLView",
            "description": "",
            "description_tooltip": null,
            "layout": "IPY_MODEL_e6e13bd2988a49d89a739be9ea017acd",
            "placeholder": "​",
            "style": "IPY_MODEL_d8545271cb184a83aa95c33ad9eb3770",
            "value": "Resolving data files: 100%"
          }
        },
        "fa52eeab496e40dabe8bffacd0512ab1": {
          "model_module": "@jupyter-widgets/controls",
          "model_module_version": "1.5.0",
          "model_name": "HBoxModel",
          "state": {
            "_dom_classes": [],
            "_model_module": "@jupyter-widgets/controls",
            "_model_module_version": "1.5.0",
            "_model_name": "HBoxModel",
            "_view_count": null,
            "_view_module": "@jupyter-widgets/controls",
            "_view_module_version": "1.5.0",
            "_view_name": "HBoxView",
            "box_style": "",
            "children": [
              "IPY_MODEL_f9a1d18bbb5b4347a54347043d52a378",
              "IPY_MODEL_58eedd464d9f4a79b64baab60136ad30",
              "IPY_MODEL_821eb28db69548138edb24d86042be08"
            ],
            "layout": "IPY_MODEL_2737bf134bd2439d890d1dc79bf2acd0"
          }
        }
      }
    }
  },
  "nbformat": 4,
  "nbformat_minor": 0
}
