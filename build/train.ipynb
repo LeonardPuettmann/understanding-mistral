{
 "cells": [
  {
   "cell_type": "code",
   "execution_count": 1,
   "metadata": {},
   "outputs": [
    {
     "name": "stderr",
     "output_type": "stream",
     "text": [
      "c:\\Users\\Leo\\AppData\\Local\\Programs\\Python\\Python312\\Lib\\site-packages\\tqdm\\auto.py:21: TqdmWarning: IProgress not found. Please update jupyter and ipywidgets. See https://ipywidgets.readthedocs.io/en/stable/user_install.html\n",
      "  from .autonotebook import tqdm as notebook_tqdm\n"
     ]
    }
   ],
   "source": [
    "# Standard library imports\n",
    "import json\n",
    "import os\n",
    "from pathlib import Path\n",
    "from typing import List, Optional\n",
    "\n",
    "# Third-party library imports\n",
    "import fire\n",
    "import safetensors.torch\n",
    "import torch\n",
    "import torch.nn as nn\n",
    "import torch.nn.functional as F\n",
    "import torchinfo\n",
    "from datasets import load_dataset\n",
    "from torch.optim import Adam\n",
    "from torch.utils.data import DataLoader\n",
    "from mistral_common.tokens.tokenizers.mistral import MistralTokenizer\n",
    "\n",
    "# Local application/library-specific imports\n",
    "from mistral import ModelArgs, Transformer, RMSNorm, precompute_freqs_cis\n",
    "\n",
    "device = torch.device(\"cpu\")"
   ]
  },
  {
   "cell_type": "code",
   "execution_count": 5,
   "metadata": {},
   "outputs": [],
   "source": [
    "# Load the dataset in streaming mode\n",
    "ds = load_dataset(\"HuggingFaceTB/cosmopedia\", \"stories\", streaming=True,)\n",
    "\n",
    "# Initialize a counter\n",
    "counter = 0\n",
    "\n",
    "# Iterate over the dataset\n",
    "dataset = {\n",
    "    \"text\": [],\n",
    "}\n",
    "\n",
    "for sample in ds[\"train\"]:\n",
    "    dataset[\"text\"].append(sample[\"text\"])\n",
    "    counter += 1\n",
    "    if counter >= 100:\n",
    "        break"
   ]
  },
  {
   "cell_type": "code",
   "execution_count": 6,
   "metadata": {},
   "outputs": [
    {
     "name": "stdout",
     "output_type": "stream",
     "text": [
      "<function tokenize_function at 0x0000018B2F8A8B80>\n"
     ]
    },
    {
     "ename": "AttributeError",
     "evalue": "'dict' object has no attribute 'map'",
     "output_type": "error",
     "traceback": [
      "\u001b[1;31m---------------------------------------------------------------------------\u001b[0m",
      "\u001b[1;31mAttributeError\u001b[0m                            Traceback (most recent call last)",
      "Cell \u001b[1;32mIn[6], line 8\u001b[0m\n\u001b[0;32m      5\u001b[0m tokenizer \u001b[38;5;241m=\u001b[39m MistralTokenizer\u001b[38;5;241m.\u001b[39mfrom_model(model_name)\n\u001b[0;32m      6\u001b[0m \u001b[38;5;28mprint\u001b[39m(tokenize_function)\n\u001b[1;32m----> 8\u001b[0m tokenized_dataset \u001b[38;5;241m=\u001b[39m \u001b[43mdataset\u001b[49m\u001b[38;5;241;43m.\u001b[39;49m\u001b[43mmap\u001b[49m(tokenize_function, batched\u001b[38;5;241m=\u001b[39m\u001b[38;5;28;01mTrue\u001b[39;00m, num_proc\u001b[38;5;241m=\u001b[39m\u001b[38;5;241m4\u001b[39m, remove_columns\u001b[38;5;241m=\u001b[39m[\u001b[38;5;124m\"\u001b[39m\u001b[38;5;124mtext\u001b[39m\u001b[38;5;124m\"\u001b[39m])\n\u001b[0;32m      9\u001b[0m train_dataloader \u001b[38;5;241m=\u001b[39m DataLoader(tokenized_dataset[\u001b[38;5;124m\"\u001b[39m\u001b[38;5;124mtrain\u001b[39m\u001b[38;5;124m\"\u001b[39m], batch_size\u001b[38;5;241m=\u001b[39m\u001b[38;5;241m16\u001b[39m, shuffle\u001b[38;5;241m=\u001b[39m\u001b[38;5;28;01mTrue\u001b[39;00m)\n",
      "\u001b[1;31mAttributeError\u001b[0m: 'dict' object has no attribute 'map'"
     ]
    }
   ],
   "source": [
    "def tokenize_function(examples):\n",
    "    return tokenizer(examples[\"text\"])\n",
    "\n",
    "model_name = \"open-mistral-7b\"\n",
    "tokenizer = MistralTokenizer.from_model(model_name)\n",
    "print(tokenize_function)\n",
    "\n",
    "tokenized_dataset = dataset.map(tokenize_function, batched=True, num_proc=4, remove_columns=[\"text\"])\n",
    "train_dataloader = DataLoader(tokenized_dataset[\"train\"], batch_size=16, shuffle=True)"
   ]
  },
  {
   "cell_type": "code",
   "execution_count": 2,
   "metadata": {},
   "outputs": [],
   "source": [
    "# Create a new ModelArgs object with the desired configuration\n",
    "model_args = ModelArgs(\n",
    "    dim=512,\n",
    "    n_layers=8,\n",
    "    head_dim=64,\n",
    "    hidden_dim=2048,\n",
    "    n_heads=8,\n",
    "    n_kv_heads=8,\n",
    "    vocab_size=32000,\n",
    "    norm_eps=1e-5,\n",
    "    max_batch_size=3,\n",
    ")\n",
    "\n",
    "# Create a new Transformer object with random weights\n",
    "model = Transformer(model_args).to(device)"
   ]
  },
  {
   "cell_type": "code",
   "execution_count": 3,
   "metadata": {},
   "outputs": [
    {
     "data": {
      "text/plain": [
       "=================================================================\n",
       "Layer (type:depth-idx)                   Param #\n",
       "=================================================================\n",
       "Transformer                              --\n",
       "├─Embedding: 1-1                         16,384,000\n",
       "├─ModuleList: 1-2                        --\n",
       "│    └─TransformerBlock: 2-1             --\n",
       "│    │    └─Attention: 3-1               1,048,576\n",
       "│    │    └─FeedForward: 3-2             3,145,728\n",
       "│    │    └─RMSNorm: 3-3                 512\n",
       "│    │    └─RMSNorm: 3-4                 512\n",
       "│    └─TransformerBlock: 2-2             --\n",
       "│    │    └─Attention: 3-5               1,048,576\n",
       "│    │    └─FeedForward: 3-6             3,145,728\n",
       "│    │    └─RMSNorm: 3-7                 512\n",
       "│    │    └─RMSNorm: 3-8                 512\n",
       "│    └─TransformerBlock: 2-3             --\n",
       "│    │    └─Attention: 3-9               1,048,576\n",
       "│    │    └─FeedForward: 3-10            3,145,728\n",
       "│    │    └─RMSNorm: 3-11                512\n",
       "│    │    └─RMSNorm: 3-12                512\n",
       "│    └─TransformerBlock: 2-4             --\n",
       "│    │    └─Attention: 3-13              1,048,576\n",
       "│    │    └─FeedForward: 3-14            3,145,728\n",
       "│    │    └─RMSNorm: 3-15                512\n",
       "│    │    └─RMSNorm: 3-16                512\n",
       "│    └─TransformerBlock: 2-5             --\n",
       "│    │    └─Attention: 3-17              1,048,576\n",
       "│    │    └─FeedForward: 3-18            3,145,728\n",
       "│    │    └─RMSNorm: 3-19                512\n",
       "│    │    └─RMSNorm: 3-20                512\n",
       "│    └─TransformerBlock: 2-6             --\n",
       "│    │    └─Attention: 3-21              1,048,576\n",
       "│    │    └─FeedForward: 3-22            3,145,728\n",
       "│    │    └─RMSNorm: 3-23                512\n",
       "│    │    └─RMSNorm: 3-24                512\n",
       "│    └─TransformerBlock: 2-7             --\n",
       "│    │    └─Attention: 3-25              1,048,576\n",
       "│    │    └─FeedForward: 3-26            3,145,728\n",
       "│    │    └─RMSNorm: 3-27                512\n",
       "│    │    └─RMSNorm: 3-28                512\n",
       "│    └─TransformerBlock: 2-8             --\n",
       "│    │    └─Attention: 3-29              1,048,576\n",
       "│    │    └─FeedForward: 3-30            3,145,728\n",
       "│    │    └─RMSNorm: 3-31                512\n",
       "│    │    └─RMSNorm: 3-32                512\n",
       "├─RMSNorm: 1-3                           512\n",
       "├─Linear: 1-4                            16,384,000\n",
       "=================================================================\n",
       "Total params: 66,331,136\n",
       "Trainable params: 66,331,136\n",
       "Non-trainable params: 0\n",
       "================================================================="
      ]
     },
     "execution_count": 3,
     "metadata": {},
     "output_type": "execute_result"
    }
   ],
   "source": [
    "torchinfo.summary(model)"
   ]
  },
  {
   "cell_type": "code",
   "execution_count": null,
   "metadata": {},
   "outputs": [],
   "source": [
    "optimizer = Adam(model.parameters(), lr=1e-5)\n",
    "loss_fn = nn.CrossEntropyLoss()\n",
    "\n",
    "model.train()\n",
    "for batch in train_dataloader:\n",
    "    optimizer.zero_grad()\n",
    "    input_ids = batch[\"input_ids\"].to(device)\n",
    "    labels = batch[\"input_ids\"].to(device)\n",
    "    outputs = model(input_ids, labels=labels)\n",
    "    loss = outputs.loss\n",
    "    loss.backward()\n",
    "    optimizer.step()\n"
   ]
  }
 ],
 "metadata": {
  "kernelspec": {
   "display_name": "Python 3",
   "language": "python",
   "name": "python3"
  },
  "language_info": {
   "codemirror_mode": {
    "name": "ipython",
    "version": 3
   },
   "file_extension": ".py",
   "mimetype": "text/x-python",
   "name": "python",
   "nbconvert_exporter": "python",
   "pygments_lexer": "ipython3",
   "version": "3.12.3"
  }
 },
 "nbformat": 4,
 "nbformat_minor": 2
}
